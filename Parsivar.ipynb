{
 "cells": [
  {
   "cell_type": "code",
   "execution_count": 1,
   "metadata": {
    "id": "A7MHoYiTEaXR",
    "outputId": "ab5e2e38-6eb4-4a96-99c8-ed0c71267f2b"
   },
   "outputs": [
    {
     "name": "stdout",
     "output_type": "stream",
     "text": [
      "3.9.6\n"
     ]
    }
   ],
   "source": [
    "from platform import python_version\n",
    "\n",
    "print(python_version())"
   ]
  },
  {
   "cell_type": "code",
   "execution_count": 2,
   "metadata": {},
   "outputs": [
    {
     "name": "stdout",
     "output_type": "stream",
     "text": [
      "Requirement already satisfied: wapiti3 in c:\\users\\mohammad\\appdata\\local\\programs\\python\\python39\\lib\\site-packages (3.0.9)\n",
      "Requirement already satisfied: parsivar in c:\\users\\mohammad\\appdata\\local\\programs\\python\\python39\\lib\\site-packages (0.2.3)\n",
      "Requirement already satisfied: browser-cookie3==0.11.4 in c:\\users\\mohammad\\appdata\\local\\programs\\python\\python39\\lib\\site-packages (from wapiti3) (0.11.4)\n",
      "Requirement already satisfied: humanize==3.13.1 in c:\\users\\mohammad\\appdata\\local\\programs\\python\\python39\\lib\\site-packages (from wapiti3) (3.13.1)\n",
      "Requirement already satisfied: httpx[brotli]==0.21.1 in c:\\users\\mohammad\\appdata\\local\\programs\\python\\python39\\lib\\site-packages (from wapiti3) (0.21.1)\n",
      "Requirement already satisfied: six>=1.15.0 in c:\\users\\mohammad\\appdata\\local\\programs\\python\\python39\\lib\\site-packages (from wapiti3) (1.16.0)\n",
      "Requirement already satisfied: httpcore>=0.14.1 in c:\\users\\mohammad\\appdata\\local\\programs\\python\\python39\\lib\\site-packages (from wapiti3) (0.14.5)\n",
      "Requirement already satisfied: mako>=1.1.4 in c:\\users\\mohammad\\appdata\\local\\programs\\python\\python39\\lib\\site-packages (from wapiti3) (1.1.6)\n",
      "Requirement already satisfied: aiosqlite==0.17.0 in c:\\users\\mohammad\\appdata\\local\\programs\\python\\python39\\lib\\site-packages (from wapiti3) (0.17.0)\n",
      "Requirement already satisfied: yaswfp>=0.9.3 in c:\\users\\mohammad\\appdata\\local\\programs\\python\\python39\\lib\\site-packages (from wapiti3) (0.9.3)\n",
      "Requirement already satisfied: PySocks>=1.7.1 in c:\\users\\mohammad\\appdata\\local\\programs\\python\\python39\\lib\\site-packages (from wapiti3) (1.7.1)\n",
      "Requirement already satisfied: cryptography==35.0.0 in c:\\users\\mohammad\\appdata\\local\\programs\\python\\python39\\lib\\site-packages (from wapiti3) (35.0.0)\n",
      "Requirement already satisfied: aiocache==0.11.1 in c:\\users\\mohammad\\appdata\\local\\programs\\python\\python39\\lib\\site-packages (from wapiti3) (0.11.1)\n",
      "Requirement already satisfied: importlib-metadata==3.7.2 in c:\\users\\mohammad\\appdata\\local\\programs\\python\\python39\\lib\\site-packages (from wapiti3) (3.7.2)\n",
      "Requirement already satisfied: httpx-socks[asyncio]==0.6.0 in c:\\users\\mohammad\\appdata\\local\\programs\\python\\python39\\lib\\site-packages (from wapiti3) (0.6.0)\n",
      "Requirement already satisfied: loguru>=0.5.3 in c:\\users\\mohammad\\appdata\\local\\programs\\python\\python39\\lib\\site-packages (from wapiti3) (0.6.0)\n",
      "Requirement already satisfied: dnspython==2.1.0 in c:\\users\\mohammad\\appdata\\local\\programs\\python\\python39\\lib\\site-packages (from wapiti3) (2.1.0)\n",
      "Requirement already satisfied: beautifulsoup4>=4.10.0 in c:\\users\\mohammad\\appdata\\local\\programs\\python\\python39\\lib\\site-packages (from wapiti3) (4.10.0)\n",
      "Requirement already satisfied: sslyze==5.0.0 in c:\\users\\mohammad\\appdata\\local\\programs\\python\\python39\\lib\\site-packages (from wapiti3) (5.0.0)\n",
      "Requirement already satisfied: tld>=0.12.5 in c:\\users\\mohammad\\appdata\\local\\programs\\python\\python39\\lib\\site-packages (from wapiti3) (0.12.6)\n",
      "Requirement already satisfied: markupsafe==1.1.1 in c:\\users\\mohammad\\appdata\\local\\programs\\python\\python39\\lib\\site-packages (from wapiti3) (1.1.1)\n",
      "Requirement already satisfied: sqlalchemy>=1.4.26 in c:\\users\\mohammad\\appdata\\local\\programs\\python\\python39\\lib\\site-packages (from wapiti3) (1.4.31)\n",
      "Requirement already satisfied: typing_extensions>=3.7.2 in c:\\users\\mohammad\\appdata\\local\\programs\\python\\python39\\lib\\site-packages (from aiosqlite==0.17.0->wapiti3) (3.10.0.2)\n",
      "Requirement already satisfied: pycryptodome in c:\\users\\mohammad\\appdata\\local\\programs\\python\\python39\\lib\\site-packages (from browser-cookie3==0.11.4->wapiti3) (3.13.0)\n",
      "Requirement already satisfied: keyring in c:\\users\\mohammad\\appdata\\local\\programs\\python\\python39\\lib\\site-packages (from browser-cookie3==0.11.4->wapiti3) (23.5.0)\n",
      "Requirement already satisfied: lz4 in c:\\users\\mohammad\\appdata\\local\\programs\\python\\python39\\lib\\site-packages (from browser-cookie3==0.11.4->wapiti3) (3.1.10)\n",
      "Requirement already satisfied: pbkdf2 in c:\\users\\mohammad\\appdata\\local\\programs\\python\\python39\\lib\\site-packages (from browser-cookie3==0.11.4->wapiti3) (1.3)\n",
      "Requirement already satisfied: pyaes in c:\\users\\mohammad\\appdata\\local\\programs\\python\\python39\\lib\\site-packages (from browser-cookie3==0.11.4->wapiti3) (1.6.1)\n",
      "Requirement already satisfied: cffi>=1.12 in c:\\users\\mohammad\\appdata\\local\\programs\\python\\python39\\lib\\site-packages (from cryptography==35.0.0->wapiti3) (1.15.0)\n",
      "Requirement already satisfied: python-socks>=1.2.4 in c:\\users\\mohammad\\appdata\\local\\programs\\python\\python39\\lib\\site-packages (from httpx-socks[asyncio]==0.6.0->wapiti3) (2.0.3)\n",
      "Requirement already satisfied: async-timeout>=3.0.1 in c:\\users\\mohammad\\appdata\\local\\programs\\python\\python39\\lib\\site-packages (from httpx-socks[asyncio]==0.6.0->wapiti3) (4.0.2)\n",
      "Requirement already satisfied: rfc3986[idna2008]<2,>=1.3 in c:\\users\\mohammad\\appdata\\local\\programs\\python\\python39\\lib\\site-packages (from httpx[brotli]==0.21.1->wapiti3) (1.5.0)\n",
      "Requirement already satisfied: sniffio in c:\\users\\mohammad\\appdata\\local\\programs\\python\\python39\\lib\\site-packages (from httpx[brotli]==0.21.1->wapiti3) (1.2.0)\n",
      "Requirement already satisfied: certifi in c:\\users\\mohammad\\appdata\\local\\programs\\python\\python39\\lib\\site-packages (from httpx[brotli]==0.21.1->wapiti3) (2021.10.8)\n",
      "Requirement already satisfied: charset-normalizer in c:\\users\\mohammad\\appdata\\local\\programs\\python\\python39\\lib\\site-packages (from httpx[brotli]==0.21.1->wapiti3) (2.0.7)\n",
      "Requirement already satisfied: brotli in c:\\users\\mohammad\\appdata\\local\\programs\\python\\python39\\lib\\site-packages (from httpx[brotli]==0.21.1->wapiti3) (1.0.9)\n",
      "Requirement already satisfied: zipp>=0.5 in c:\\users\\mohammad\\appdata\\local\\programs\\python\\python39\\lib\\site-packages (from importlib-metadata==3.7.2->wapiti3) (3.6.0)\n",
      "Requirement already satisfied: pydantic<1.9,>=1.7 in c:\\users\\mohammad\\appdata\\local\\programs\\python\\python39\\lib\\site-packages (from sslyze==5.0.0->wapiti3) (1.8.2)\n",
      "Requirement already satisfied: tls-parser<1.3.0,>=1.2.2 in c:\\users\\mohammad\\appdata\\local\\programs\\python\\python39\\lib\\site-packages (from sslyze==5.0.0->wapiti3) (1.2.2)\n",
      "Requirement already satisfied: nassl<5.0.0,>=4.0.1 in c:\\users\\mohammad\\appdata\\local\\programs\\python\\python39\\lib\\site-packages (from sslyze==5.0.0->wapiti3) (4.0.2)\n",
      "Requirement already satisfied: nltk==3.4.5 in c:\\users\\mohammad\\appdata\\local\\programs\\python\\python39\\lib\\site-packages (from parsivar) (3.4.5)\n",
      "Requirement already satisfied: soupsieve>1.2 in c:\\users\\mohammad\\appdata\\local\\programs\\python\\python39\\lib\\site-packages (from beautifulsoup4>=4.10.0->wapiti3) (2.3.1)\n",
      "Requirement already satisfied: h11<0.13,>=0.11 in c:\\users\\mohammad\\appdata\\local\\programs\\python\\python39\\lib\\site-packages (from httpcore>=0.14.1->wapiti3) (0.12.0)\n",
      "Requirement already satisfied: anyio==3.* in c:\\users\\mohammad\\appdata\\local\\programs\\python\\python39\\lib\\site-packages (from httpcore>=0.14.1->wapiti3) (3.5.0)\n",
      "Requirement already satisfied: idna>=2.8 in c:\\users\\mohammad\\appdata\\local\\programs\\python\\python39\\lib\\site-packages (from anyio==3.*->httpcore>=0.14.1->wapiti3) (2.10)\n",
      "Requirement already satisfied: colorama>=0.3.4 in c:\\users\\mohammad\\appdata\\local\\programs\\python\\python39\\lib\\site-packages (from loguru>=0.5.3->wapiti3) (0.4.4)\n",
      "Requirement already satisfied: win32-setctime>=1.0.0 in c:\\users\\mohammad\\appdata\\local\\programs\\python\\python39\\lib\\site-packages (from loguru>=0.5.3->wapiti3) (1.1.0)\n",
      "Requirement already satisfied: greenlet!=0.4.17 in c:\\users\\mohammad\\appdata\\local\\programs\\python\\python39\\lib\\site-packages (from sqlalchemy>=1.4.26->wapiti3) (1.1.2)\n",
      "Requirement already satisfied: pycparser in c:\\users\\mohammad\\appdata\\local\\programs\\python\\python39\\lib\\site-packages (from cffi>=1.12->cryptography==35.0.0->wapiti3) (2.21)\n",
      "Requirement already satisfied: pywin32-ctypes!=0.1.0,!=0.1.1 in c:\\users\\mohammad\\appdata\\local\\programs\\python\\python39\\lib\\site-packages (from keyring->browser-cookie3==0.11.4->wapiti3) (0.2.0)\n"
     ]
    },
    {
     "name": "stderr",
     "output_type": "stream",
     "text": [
      "WARNING: You are using pip version 21.3.1; however, version 22.0.3 is available.\n",
      "You should consider upgrading via the 'c:\\users\\mohammad\\appdata\\local\\programs\\python\\python39\\python.exe -m pip install --upgrade pip' command.\n"
     ]
    }
   ],
   "source": [
    "!pip install wapiti3 parsivar"
   ]
  },
  {
   "cell_type": "code",
   "execution_count": 3,
   "metadata": {},
   "outputs": [
    {
     "name": "stdout",
     "output_type": "stream",
     "text": [
      "Name: wapiti3\n",
      "Version: 3.0.9\n",
      "Summary: A web application vulnerability scanner\n",
      "Home-page: https://wapiti.sourceforge.io/\n",
      "Author: Nicolas Surribas\n",
      "Author-email: nicolas.surribas@gmail.com\n",
      "License: GPLv2\n",
      "Location: c:\\users\\mohammad\\appdata\\local\\programs\\python\\python39\\lib\\site-packages\n",
      "Requires: aiocache, aiosqlite, beautifulsoup4, browser-cookie3, cryptography, dnspython, httpcore, httpx, httpx-socks, humanize, importlib-metadata, loguru, mako, markupsafe, PySocks, six, sqlalchemy, sslyze, tld, yaswfp\n",
      "Required-by: \n",
      "Note: you may need to restart the kernel to use updated packages.\n"
     ]
    }
   ],
   "source": [
    "pip show wapiti3"
   ]
  },
  {
   "cell_type": "code",
   "execution_count": 4,
   "metadata": {
    "id": "967DFikdEaXV"
   },
   "outputs": [],
   "source": [
    "from parsivar import Normalizer"
   ]
  },
  {
   "cell_type": "code",
   "execution_count": 5,
   "metadata": {
    "id": "QIqmKYv9EaXW"
   },
   "outputs": [],
   "source": [
    "my_normalizer = Normalizer()"
   ]
  },
  {
   "cell_type": "code",
   "execution_count": 6,
   "metadata": {
    "id": "065EJ_DvEaXW"
   },
   "outputs": [],
   "source": [
    "text = \"\"\"محمد دهقانی علاقه ی زیادی به کار با مت ون پارسی دارد.\n",
    "علاقه دیگر وی، تحلیل داده 1 می باشد.\n",
    "حال عمدا واژه ی صبر را سبر می نویسد تا قدرت هضم را بررسی کنیم.\"\"\""
   ]
  },
  {
   "cell_type": "code",
   "execution_count": 7,
   "metadata": {},
   "outputs": [
    {
     "name": "stdout",
     "output_type": "stream",
     "text": [
      "محمد دهقانی علاقه ی زیادی به کار با مت ون پارسی دارد.\n",
      "علاقه دیگر وی، تحلیل داده 1 می باشد.\n",
      "حال عمدا واژه ی صبر را سبر می نویسد تا قدرت هضم را بررسی کنیم.\n"
     ]
    }
   ],
   "source": [
    "print(text)"
   ]
  },
  {
   "cell_type": "code",
   "execution_count": 8,
   "metadata": {
    "id": "7y22zWoTEaXX",
    "outputId": "67a28ada-eff9-4af1-df59-1c6968f1ef06"
   },
   "outputs": [
    {
     "name": "stdout",
     "output_type": "stream",
     "text": [
      "محمد دهقانی علاقه ی زیادی به کار با مت ون پارسی دارد .\n",
      " علاقه دیگر وی ، تحلیل داده 1 می‌باشد .\n",
      " حال عمدا واژه ی صبر را سبر می‌نویسد تا قدرت هضم را بررسی کنیم .\n"
     ]
    }
   ],
   "source": [
    "print(my_normalizer.normalize(text))"
   ]
  },
  {
   "cell_type": "code",
   "execution_count": 9,
   "metadata": {
    "id": "miFrBc3yEaXY"
   },
   "outputs": [],
   "source": [
    "my_normalizer = Normalizer(date_normalizing_needed=True)"
   ]
  },
  {
   "cell_type": "code",
   "execution_count": 10,
   "metadata": {
    "id": "pfvTEt7yEaXa",
    "outputId": "f732a354-5cfa-45d0-955e-b0f84e460457"
   },
   "outputs": [
    {
     "name": "stdout",
     "output_type": "stream",
     "text": [
      "محمد دهقانی علاقه ی زیادی به کار با مت ون پارسی دارد . علاقه دیگر وی ، تحلیل داده 1 می‌باشد . حال عمدا واژه ی صبر را سبر می‌نویسد تا قدرت هضم را بررسی کنیم .\n"
     ]
    }
   ],
   "source": [
    "print(my_normalizer.normalize(text))"
   ]
  },
  {
   "cell_type": "code",
   "execution_count": 11,
   "metadata": {
    "id": "V8PhVBk3EaXa"
   },
   "outputs": [],
   "source": [
    " my_normalizer = Normalizer(pinglish_conversion_needed = True)"
   ]
  },
  {
   "cell_type": "code",
   "execution_count": 12,
   "metadata": {
    "id": "ysmg0M3xEaXc",
    "outputId": "881ec8d2-2a19-4dc8-bab8-43c189465aa0"
   },
   "outputs": [
    {
     "name": "stdout",
     "output_type": "stream",
     "text": [
      "هاله دلش ابری است .\n"
     ]
    }
   ],
   "source": [
    "print(my_normalizer.normalize(\"hale delash abri ast.\"))"
   ]
  },
  {
   "cell_type": "code",
   "execution_count": 13,
   "metadata": {
    "id": "OcUrCoIFEaXe"
   },
   "outputs": [],
   "source": [
    "from parsivar import Tokenizer"
   ]
  },
  {
   "cell_type": "code",
   "execution_count": 14,
   "metadata": {
    "id": "bJDneVrpEaXe"
   },
   "outputs": [],
   "source": [
    "my_tokenizer = Tokenizer()"
   ]
  },
  {
   "cell_type": "code",
   "execution_count": 15,
   "metadata": {
    "id": "Jffp-CvNEaXf"
   },
   "outputs": [],
   "source": [
    "sents = my_tokenizer.tokenize_sentences(my_normalizer.normalize(text))"
   ]
  },
  {
   "cell_type": "code",
   "execution_count": 16,
   "metadata": {
    "id": "PZXImMu3EaXg",
    "outputId": "1d73e278-8565-47c4-868a-9c0f1bdf0638"
   },
   "outputs": [
    {
     "name": "stdout",
     "output_type": "stream",
     "text": [
      "['محمد دهقانی علاقه ی زیادی به کار با مت ون پارسی دارد  .', ' علاقه دیگر وی ، تحلیل داده 1 می\\u200cباشد  .', ' حال عمدا واژه ی صبر را سبر می\\u200cنویسد تا قدرت هضم را بررسی کنیم  .']\n"
     ]
    }
   ],
   "source": [
    "print(sents)"
   ]
  },
  {
   "cell_type": "code",
   "execution_count": 17,
   "metadata": {
    "id": "wjw8MNb-EaXg"
   },
   "outputs": [],
   "source": [
    "words = my_tokenizer.tokenize_words(my_normalizer.normalize(text))"
   ]
  },
  {
   "cell_type": "code",
   "execution_count": 18,
   "metadata": {
    "id": "IxyH2mnQEaXh",
    "outputId": "3cd21e05-54b0-4ecd-8a20-235c2ceba7d4"
   },
   "outputs": [
    {
     "name": "stdout",
     "output_type": "stream",
     "text": [
      "['محمد', 'دهقانی', 'علاقه', 'ی', 'زیادی', 'به', 'کار', 'با', 'مت', 'ون', 'پارسی', 'دارد', '.', 'علاقه', 'دیگر', 'وی', '،', 'تحلیل', 'داده', '1', 'می\\u200cباشد', '.', 'حال', 'عمدا', 'واژه', 'ی', 'صبر', 'را', 'سبر', 'می\\u200cنویسد', 'تا', 'قدرت', 'هضم', 'را', 'بررسی', 'کنیم', '.']\n"
     ]
    }
   ],
   "source": [
    "print(words)"
   ]
  },
  {
   "cell_type": "code",
   "execution_count": 19,
   "metadata": {
    "id": "QIjOfJdmEaXi"
   },
   "outputs": [],
   "source": [
    "from parsivar import FindStems"
   ]
  },
  {
   "cell_type": "code",
   "execution_count": 20,
   "metadata": {
    "id": "16d7bPChEaXi"
   },
   "outputs": [],
   "source": [
    "my_stemmer = FindStems()"
   ]
  },
  {
   "cell_type": "code",
   "execution_count": 21,
   "metadata": {
    "id": "6EmsVnfBEaXi",
    "outputId": "468f4a9c-e69e-4d33-92f7-b72c02292869"
   },
   "outputs": [
    {
     "name": "stdout",
     "output_type": "stream",
     "text": [
      "آقا\n"
     ]
    }
   ],
   "source": [
    "print(my_stemmer.convert_to_stem(\"آقایان\"))"
   ]
  },
  {
   "cell_type": "code",
   "execution_count": 22,
   "metadata": {
    "id": "ewah3hP1EaXk",
    "outputId": "1651b1a9-1803-4291-efcd-ffdf8d495bd1"
   },
   "outputs": [
    {
     "name": "stdout",
     "output_type": "stream",
     "text": [
      "درختان >> درخت\n",
      "اژدها >> اژدها\n",
      "رفتارها >> رفتار\n",
      "برقص >> رقصید&رقص\n",
      "بنواز >> نواخت&نواز\n",
      "کفار >> کفار\n",
      "برآشفتن >> برآشفتن\n"
     ]
    }
   ],
   "source": [
    "word_tests = ['درختان' ,'اژدها' ,'رفتارها' ,'برقص' ,'بنواز' ,'کفار' ,'برآشفتن']\n",
    "for word in word_tests:\n",
    "    print(word, '>>', my_stemmer.convert_to_stem(word))"
   ]
  },
  {
   "cell_type": "code",
   "execution_count": 23,
   "metadata": {
    "id": "_hxR6vWoEaXk"
   },
   "outputs": [],
   "source": [
    "from parsivar import POSTagger"
   ]
  },
  {
   "cell_type": "code",
   "execution_count": 24,
   "metadata": {
    "id": "HCVWfIKiEaXk"
   },
   "outputs": [],
   "source": [
    "my_tagger = POSTagger(tagging_model=\"wapiti\")"
   ]
  },
  {
   "cell_type": "code",
   "execution_count": 25,
   "metadata": {
    "id": "xL1E3qygEaXl",
    "outputId": "d1181044-44fd-4605-e59e-fc1504276744"
   },
   "outputs": [
    {
     "name": "stdout",
     "output_type": "stream",
     "text": [
      "این سمینار تا 13 شهریور ادامه می‌یابد .\n"
     ]
    }
   ],
   "source": [
    "text = \"این سمینار تا 13 شهریور ادامه می‌یابد .\"\n",
    "print(text)"
   ]
  },
  {
   "cell_type": "code",
   "execution_count": 26,
   "metadata": {
    "id": "dbRabprrEaXl"
   },
   "outputs": [],
   "source": [
    "text_tags = my_tagger.parse(my_tokenizer.tokenize_words(text))"
   ]
  },
  {
   "cell_type": "code",
   "execution_count": 27,
   "metadata": {
    "id": "dvO0QXdYEaXm",
    "outputId": "646d1f6c-48e0-4be5-cfdd-bbcabd20c528"
   },
   "outputs": [
    {
     "name": "stdout",
     "output_type": "stream",
     "text": [
      "[('این', 'DET'), ('سمینار', 'N'), ('تا', 'PO'), ('13', 'N'), ('شهریور', 'N'), ('ادامه', 'N'), ('می\\u200cیابد', 'V_PR'), ('.', '.')]\n"
     ]
    }
   ],
   "source": [
    "print(text_tags)"
   ]
  },
  {
   "cell_type": "code",
   "execution_count": 28,
   "metadata": {
    "id": "apIlfuIYEaXn"
   },
   "outputs": [],
   "source": [
    "from parsivar import FindChunks"
   ]
  },
  {
   "cell_type": "code",
   "execution_count": 29,
   "metadata": {
    "id": "INXHrj5wEaXn"
   },
   "outputs": [],
   "source": [
    "my_chunker = FindChunks()"
   ]
  },
  {
   "cell_type": "code",
   "execution_count": 30,
   "metadata": {
    "id": "xNGC26fCEaXo"
   },
   "outputs": [],
   "source": [
    "chunks = my_chunker.chunk_sentence(text_tags)"
   ]
  },
  {
   "cell_type": "code",
   "execution_count": 31,
   "metadata": {
    "id": "LNpZUbvSEaXo",
    "outputId": "9b88876c-5522-4f17-8938-ac096fe8207b"
   },
   "outputs": [
    {
     "name": "stdout",
     "output_type": "stream",
     "text": [
      "[این سمینار DNP] تا [13 شهریور ادامه NP] [می‌یابد VP] .\n"
     ]
    }
   ],
   "source": [
    "print(my_chunker.convert_nestedtree2rawstring(chunks))"
   ]
  },
  {
   "cell_type": "code",
   "execution_count": 32,
   "metadata": {
    "id": "cSDn9EgbEaXp"
   },
   "outputs": [],
   "source": [
    "from parsivar import DependencyParser"
   ]
  },
  {
   "cell_type": "code",
   "execution_count": 33,
   "metadata": {
    "id": "QDGPfNczEaXp"
   },
   "outputs": [],
   "source": [
    "myparser = DependencyParser()"
   ]
  },
  {
   "cell_type": "code",
   "execution_count": 34,
   "metadata": {
    "id": "0rBKNQLwEaXp"
   },
   "outputs": [],
   "source": [
    "sents = \"اسبی که سراسیمه می دوید.\""
   ]
  },
  {
   "cell_type": "code",
   "execution_count": 35,
   "metadata": {
    "id": "j54yby_cEaXq"
   },
   "outputs": [],
   "source": [
    "sent_list = my_tokenizer.tokenize_sentences(sents)"
   ]
  },
  {
   "cell_type": "code",
   "execution_count": 36,
   "metadata": {},
   "outputs": [
    {
     "data": {
      "text/plain": [
       "['اسبی که سراسیمه می دوید .']"
      ]
     },
     "execution_count": 36,
     "metadata": {},
     "output_type": "execute_result"
    }
   ],
   "source": [
    "sent_list"
   ]
  },
  {
   "cell_type": "code",
   "execution_count": 37,
   "metadata": {
    "id": "XGJ5_mOxEaXq"
   },
   "outputs": [],
   "source": [
    "parsed_sents = myparser.parse_sents(sent_list)"
   ]
  },
  {
   "cell_type": "code",
   "execution_count": 38,
   "metadata": {
    "id": "WMxjeXF-EaXr",
    "outputId": "53a4798b-fce6-4fb7-b81b-66db7e53816e"
   },
   "outputs": [
    {
     "name": "stdout",
     "output_type": "stream",
     "text": [
      "(اسبی (که (دوید سراسیمه می)))\n"
     ]
    }
   ],
   "source": [
    "for depgraph in parsed_sents:\n",
    "    print(depgraph.tree())"
   ]
  },
  {
   "cell_type": "code",
   "execution_count": 39,
   "metadata": {
    "id": "BPRe9byMEaXs"
   },
   "outputs": [],
   "source": [
    "from parsivar import SpellCheck"
   ]
  },
  {
   "cell_type": "markdown",
   "metadata": {},
   "source": [
    "To use the spell checker module download it's resources from\n",
    "https://www.dropbox.com/s/tlyvnzv1ha9y1kl/spell.zip?dl=0\n",
    "and after extraction copy the spell/ directory to parsivar/resource."
   ]
  },
  {
   "cell_type": "markdown",
   "metadata": {},
   "source": [
    "FileNotFoundError: [Errno 2] No such file or directory: 'C:\\\\Users\\\\Mohammad\\\\AppData\\\\Local\\\\Programs\\\\Python\\\\Python39\\\\Lib\\\\site-packages\\\\parsivar/resource/spell/mybigram_lm.pckl'"
   ]
  },
  {
   "cell_type": "markdown",
   "metadata": {},
   "source": [
    "C:\\Users\\Mohammad\\AppData\\Local\\Programs\\Python\\Python39\\Lib\\site-packages\\parsivar\\resource"
   ]
  },
  {
   "cell_type": "code",
   "execution_count": 40,
   "metadata": {
    "id": "N5e0OdffEaXs"
   },
   "outputs": [],
   "source": [
    "myspell_checker = SpellCheck()"
   ]
  },
  {
   "cell_type": "code",
   "execution_count": 41,
   "metadata": {
    "id": "Nrxbv4RWEaXs"
   },
   "outputs": [],
   "source": [
    "res = myspell_checker.spell_corrector(\"نمازگذاران وارد مسلی شدند.\")"
   ]
  },
  {
   "cell_type": "code",
   "execution_count": 42,
   "metadata": {
    "id": "Tp73_0KcEaXs",
    "outputId": "659503c5-ad73-4b03-a389-87fe8ec15c14"
   },
   "outputs": [
    {
     "data": {
      "text/plain": [
       "'نمازگزاران وارد مصلی شدند .'"
      ]
     },
     "execution_count": 42,
     "metadata": {},
     "output_type": "execute_result"
    }
   ],
   "source": [
    "res"
   ]
  },
  {
   "cell_type": "code",
   "execution_count": null,
   "metadata": {},
   "outputs": [],
   "source": []
  },
  {
   "cell_type": "code",
   "execution_count": null,
   "metadata": {},
   "outputs": [],
   "source": []
  }
 ],
 "metadata": {
  "colab": {
   "name": "Parsivar.ipynb",
   "provenance": []
  },
  "kernelspec": {
   "display_name": "Python 3 (ipykernel)",
   "language": "python",
   "name": "python3"
  },
  "language_info": {
   "codemirror_mode": {
    "name": "ipython",
    "version": 3
   },
   "file_extension": ".py",
   "mimetype": "text/x-python",
   "name": "python",
   "nbconvert_exporter": "python",
   "pygments_lexer": "ipython3",
   "version": "3.9.6"
  }
 },
 "nbformat": 4,
 "nbformat_minor": 1
}
